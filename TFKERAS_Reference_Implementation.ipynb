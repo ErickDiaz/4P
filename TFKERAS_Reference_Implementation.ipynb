{
 "cells": [
  {
   "cell_type": "code",
   "execution_count": 1,
   "metadata": {},
   "outputs": [],
   "source": [
    "from tensorflow import keras\n",
    "import ktrain\n",
    "from pathlib import Path\n",
    "import numpy as np\n",
    "import pandas as pd\n",
    "from tqdm import tqdm"
   ]
  },
  {
   "cell_type": "code",
   "execution_count": 2,
   "metadata": {},
   "outputs": [],
   "source": [
    "from classification_models.tfkeras import Classifiers"
   ]
  },
  {
   "cell_type": "code",
   "execution_count": 3,
   "metadata": {},
   "outputs": [],
   "source": [
    "vgg, preproc = Classifiers.get(\"vgg16\")"
   ]
  },
  {
   "cell_type": "code",
   "execution_count": 4,
   "metadata": {},
   "outputs": [],
   "source": [
    "df = pd.read_csv(\"Labels.csv\")"
   ]
  },
  {
   "cell_type": "code",
   "execution_count": 5,
   "metadata": {},
   "outputs": [],
   "source": [
    "tr_gen = keras.preprocessing.image.ImageDataGenerator(rotation_range=10, width_shift_range=0.2, \n",
    "                                                     height_shift_range=0.2, preprocessing_function=preproc, \n",
    "                                                     validation_split=0.2)\n",
    "ts_gen = keras.preprocessing.image.ImageDataGenerator(preprocessing_function=preproc)"
   ]
  },
  {
   "cell_type": "code",
   "execution_count": 6,
   "metadata": {},
   "outputs": [
    {
     "data": {
      "text/html": [
       "<div>\n",
       "<style scoped>\n",
       "    .dataframe tbody tr th:only-of-type {\n",
       "        vertical-align: middle;\n",
       "    }\n",
       "\n",
       "    .dataframe tbody tr th {\n",
       "        vertical-align: top;\n",
       "    }\n",
       "\n",
       "    .dataframe thead th {\n",
       "        text-align: right;\n",
       "    }\n",
       "</style>\n",
       "<table border=\"1\" class=\"dataframe\">\n",
       "  <thead>\n",
       "    <tr style=\"text-align: right;\">\n",
       "      <th></th>\n",
       "      <th>X_ray_image_name</th>\n",
       "      <th>Numeric_Label</th>\n",
       "      <th>Label</th>\n",
       "    </tr>\n",
       "  </thead>\n",
       "  <tbody>\n",
       "    <tr>\n",
       "      <th>3658</th>\n",
       "      <td>IM-0730-0001.jpeg</td>\n",
       "      <td>0</td>\n",
       "      <td>Normal</td>\n",
       "    </tr>\n",
       "  </tbody>\n",
       "</table>\n",
       "</div>"
      ],
      "text/plain": [
       "       X_ray_image_name  Numeric_Label   Label\n",
       "3658  IM-0730-0001.jpeg              0  Normal"
      ]
     },
     "execution_count": 6,
     "metadata": {},
     "output_type": "execute_result"
    }
   ],
   "source": [
    "train_ims = df[df[\"Dataset_type\"]==\"TRAIN\"].drop(\"Dataset_type\", 1)\n",
    "train_ims[\"Label\"] = train_ims[\"Numeric_Label\"].apply(lambda x: \"Normal\" if x==0 else \"Bacterial\" if x==1 else \"Viral\")\n",
    "train_ims.sample()"
   ]
  },
  {
   "cell_type": "code",
   "execution_count": 7,
   "metadata": {},
   "outputs": [
    {
     "name": "stdout",
     "output_type": "stream",
     "text": [
      "Found 4131 validated image filenames belonging to 3 classes.\n",
      "Found 1032 validated image filenames belonging to 3 classes.\n"
     ]
    }
   ],
   "source": [
    "train = tr_gen.flow_from_dataframe(train_ims, directory=\"train\", x_col=\"X_ray_image_name\", y_col=\"Label\",\n",
    "                          target_size=(224,224), subset=\"training\")\n",
    "val = tr_gen.flow_from_dataframe(train_ims, directory=\"train\", x_col=\"X_ray_image_name\", y_col=\"Label\",\n",
    "                          target_size=(224,224), subset=\"validation\")"
   ]
  },
  {
   "cell_type": "code",
   "execution_count": 8,
   "metadata": {},
   "outputs": [
    {
     "data": {
      "text/html": [
       "<div>\n",
       "<style scoped>\n",
       "    .dataframe tbody tr th:only-of-type {\n",
       "        vertical-align: middle;\n",
       "    }\n",
       "\n",
       "    .dataframe tbody tr th {\n",
       "        vertical-align: top;\n",
       "    }\n",
       "\n",
       "    .dataframe thead th {\n",
       "        text-align: right;\n",
       "    }\n",
       "</style>\n",
       "<table border=\"1\" class=\"dataframe\">\n",
       "  <thead>\n",
       "    <tr style=\"text-align: right;\">\n",
       "      <th></th>\n",
       "      <th>X_ray_image_name</th>\n",
       "      <th>Numeric_Label</th>\n",
       "      <th>Label</th>\n",
       "    </tr>\n",
       "  </thead>\n",
       "  <tbody>\n",
       "    <tr>\n",
       "      <th>5316</th>\n",
       "      <td>person144_bacteria_690.jpeg</td>\n",
       "      <td>1</td>\n",
       "      <td>Bacterial</td>\n",
       "    </tr>\n",
       "  </tbody>\n",
       "</table>\n",
       "</div>"
      ],
      "text/plain": [
       "                 X_ray_image_name  Numeric_Label      Label\n",
       "5316  person144_bacteria_690.jpeg              1  Bacterial"
      ]
     },
     "execution_count": 8,
     "metadata": {},
     "output_type": "execute_result"
    }
   ],
   "source": [
    "test_ims = df[df[\"Dataset_type\"]==\"TEST\"].drop(\"Dataset_type\", 1)\n",
    "test_ims[\"Label\"] = test_ims[\"Numeric_Label\"].apply(lambda x: \"Normal\" if x==0 else \"Bacterial\" if x==1 else \"Viral\")\n",
    "test_ims.sample()"
   ]
  },
  {
   "cell_type": "code",
   "execution_count": 9,
   "metadata": {},
   "outputs": [
    {
     "name": "stdout",
     "output_type": "stream",
     "text": [
      "Found 624 validated image filenames belonging to 3 classes.\n"
     ]
    }
   ],
   "source": [
    "test = ts_gen.flow_from_dataframe(test_ims, directory=\"test\", x_col=\"X_ray_image_name\", y_col=\"Label\",\n",
    "                          target_size=(224,224))"
   ]
  },
  {
   "cell_type": "code",
   "execution_count": 20,
   "metadata": {},
   "outputs": [],
   "source": [
    "base_model = vgg(include_top=False, input_shape=(224,224,3), pooling=\"avg\")\n",
    "for layer in base_model.layers:\n",
    "    layer.trainable=False\n",
    "model = keras.models.Sequential()\n",
    "model.add(base_model)\n",
    "model.add(keras.layers.Dense(512, activation=\"relu\"))\n",
    "model.add(keras.layers.Dropout(.25))\n",
    "model.add(keras.layers.Dense(3, activation=\"softmax\"))"
   ]
  },
  {
   "cell_type": "code",
   "execution_count": 21,
   "metadata": {},
   "outputs": [],
   "source": [
    "model.compile(\"adam\", [\"categorical_crossentropy\"], [\"accuracy\"])"
   ]
  },
  {
   "cell_type": "code",
   "execution_count": 22,
   "metadata": {},
   "outputs": [],
   "source": [
    "learner = ktrain.get_learner(model, train, val)"
   ]
  },
  {
   "cell_type": "code",
   "execution_count": 23,
   "metadata": {},
   "outputs": [
    {
     "name": "stdout",
     "output_type": "stream",
     "text": [
      "simulating training for different learning rates... this may take a few moments...\n",
      "Train for 129 steps\n",
      "Epoch 1/1024\n",
      "129/129 [==============================] - 75s 585ms/step - loss: 3.1318 - accuracy: 0.2440\n",
      "Epoch 2/1024\n",
      "129/129 [==============================] - 76s 587ms/step - loss: 2.9284 - accuracy: 0.2620\n",
      "Epoch 3/1024\n",
      "129/129 [==============================] - 85s 661ms/step - loss: 2.5947 - accuracy: 0.2908\n",
      "Epoch 4/1024\n",
      "129/129 [==============================] - 76s 590ms/step - loss: 2.1920 - accuracy: 0.3677\n",
      "Epoch 5/1024\n",
      "129/129 [==============================] - 76s 586ms/step - loss: 1.5038 - accuracy: 0.5240\n",
      "Epoch 6/1024\n",
      "129/129 [==============================] - 75s 584ms/step - loss: 1.0371 - accuracy: 0.6472\n",
      "Epoch 7/1024\n",
      "129/129 [==============================] - 75s 584ms/step - loss: 0.7756 - accuracy: 0.7009\n",
      "Epoch 8/1024\n",
      "129/129 [==============================] - 75s 585ms/step - loss: 0.6662 - accuracy: 0.7363\n",
      "Epoch 9/1024\n",
      "129/129 [==============================] - 76s 585ms/step - loss: 0.6741 - accuracy: 0.7207\n",
      "Epoch 10/1024\n",
      "129/129 [==============================] - 83s 640ms/step - loss: 0.6611 - accuracy: 0.7065\n",
      "Epoch 11/1024\n",
      "129/129 [==============================] - 85s 659ms/step - loss: 1.2416 - accuracy: 0.5121\n",
      "Epoch 12/1024\n",
      "115/129 [=========================>....] - ETA: 8s - loss: 18.5407 - accuracy: 0.4560\n",
      "\n",
      "done.\n"
     ]
    },
    {
     "data": {
      "image/png": "[encoded data removed]",
      "text/plain": [
       "<Figure size 432x288 with 1 Axes>"
      ]
     },
     "metadata": {
      "needs_background": "light"
     },
     "output_type": "display_data"
    }
   ],
   "source": [
    "learner.lr_find(show_plot=True)"
   ]
  },
  {
   "cell_type": "code",
   "execution_count": 24,
   "metadata": {},
   "outputs": [
    {
     "name": "stdout",
     "output_type": "stream",
     "text": [
      "early_stopping automatically enabled at patience=5\n",
      "reduce_on_plateau automatically enabled at patience=2\n",
      "\n",
      "\n",
      "begin training using triangular learning rate policy with max lr of 0.001...\n",
      "Train for 130 steps, validate for 33 steps\n",
      "Epoch 1/1024\n",
      "130/130 [==============================] - 97s 744ms/step - loss: 1.1300 - accuracy: 0.6509 - val_loss: 0.5735 - val_accuracy: 0.7626\n",
      "Epoch 2/1024\n",
      "130/130 [==============================] - 95s 734ms/step - loss: 0.5728 - accuracy: 0.7599 - val_loss: 0.4905 - val_accuracy: 0.7984\n",
      "Epoch 3/1024\n",
      "130/130 [==============================] - 97s 749ms/step - loss: 0.5222 - accuracy: 0.7756 - val_loss: 0.4563 - val_accuracy: 0.8023\n",
      "Epoch 4/1024\n",
      "130/130 [==============================] - 98s 751ms/step - loss: 0.4985 - accuracy: 0.7957 - val_loss: 0.4615 - val_accuracy: 0.8159\n",
      "Epoch 5/1024\n",
      "129/130 [============================>.] - ETA: 0s - loss: 0.4783 - accuracy: 0.7978\n",
      "Epoch 00005: Reducing Max LR on Plateau: new max lr will be 0.0005 (if not early_stopping).\n",
      "130/130 [==============================] - 97s 750ms/step - loss: 0.4793 - accuracy: 0.7971 - val_loss: 0.4663 - val_accuracy: 0.7994\n",
      "Epoch 6/1024\n",
      "130/130 [==============================] - 97s 744ms/step - loss: 0.4701 - accuracy: 0.8022 - val_loss: 0.4462 - val_accuracy: 0.8110\n",
      "Epoch 7/1024\n",
      "130/130 [==============================] - 96s 735ms/step - loss: 0.4686 - accuracy: 0.7957 - val_loss: 0.4708 - val_accuracy: 0.8052\n",
      "Epoch 8/1024\n",
      "129/130 [============================>.] - ETA: 0s - loss: 0.4514 - accuracy: 0.7989\n",
      "Epoch 00008: Reducing Max LR on Plateau: new max lr will be 0.00025 (if not early_stopping).\n",
      "130/130 [==============================] - 96s 739ms/step - loss: 0.4502 - accuracy: 0.7991 - val_loss: 0.4737 - val_accuracy: 0.7926\n",
      "Epoch 9/1024\n",
      "130/130 [==============================] - 98s 756ms/step - loss: 0.4439 - accuracy: 0.8088 - val_loss: 0.4370 - val_accuracy: 0.8072\n",
      "Epoch 10/1024\n",
      "130/130 [==============================] - 96s 736ms/step - loss: 0.4324 - accuracy: 0.8209 - val_loss: 0.4382 - val_accuracy: 0.8207\n",
      "Epoch 11/1024\n",
      "129/130 [============================>.] - ETA: 0s - loss: 0.4287 - accuracy: 0.8129\n",
      "Epoch 00011: Reducing Max LR on Plateau: new max lr will be 0.000125 (if not early_stopping).\n",
      "130/130 [==============================] - 97s 746ms/step - loss: 0.4298 - accuracy: 0.8126 - val_loss: 0.4505 - val_accuracy: 0.8081\n",
      "Epoch 12/1024\n",
      "130/130 [==============================] - 98s 755ms/step - loss: 0.4147 - accuracy: 0.8240 - val_loss: 0.4446 - val_accuracy: 0.8149\n",
      "Epoch 13/1024\n",
      "129/130 [============================>.] - ETA: 0s - loss: 0.4177 - accuracy: 0.8217\n",
      "Epoch 00013: Reducing Max LR on Plateau: new max lr will be 6.25e-05 (if not early_stopping).\n",
      "130/130 [==============================] - 98s 750ms/step - loss: 0.4182 - accuracy: 0.8216 - val_loss: 0.4403 - val_accuracy: 0.8033\n",
      "Epoch 14/1024\n",
      "129/130 [============================>.] - ETA: 0s - loss: 0.4192 - accuracy: 0.8180Restoring model weights from the end of the best epoch.\n",
      "130/130 [==============================] - 96s 735ms/step - loss: 0.4198 - accuracy: 0.8180 - val_loss: 0.4467 - val_accuracy: 0.8101\n",
      "Epoch 00014: early stopping\n",
      "Weights from best epoch have been loaded into model.\n"
     ]
    },
    {
     "data": {
      "text/plain": [
       "<tensorflow.python.keras.callbacks.History at 0x209df1e0188>"
      ]
     },
     "execution_count": 24,
     "metadata": {},
     "output_type": "execute_result"
    }
   ],
   "source": [
    "learner.autofit(1e-3)"
   ]
  },
  {
   "cell_type": "code",
   "execution_count": 27,
   "metadata": {},
   "outputs": [],
   "source": [
    "learner.save_model(\"frozen\")"
   ]
  },
  {
   "cell_type": "code",
   "execution_count": 28,
   "metadata": {},
   "outputs": [],
   "source": [
    "learner.unfreeze()"
   ]
  },
  {
   "cell_type": "code",
   "execution_count": 29,
   "metadata": {},
   "outputs": [
    {
     "name": "stdout",
     "output_type": "stream",
     "text": [
      "early_stopping automatically enabled at patience=5\n",
      "reduce_on_plateau automatically enabled at patience=2\n",
      "\n",
      "\n",
      "begin training using triangular learning rate policy with max lr of 1e-05...\n",
      "Train for 130 steps, validate for 33 steps\n",
      "Epoch 1/1024\n",
      "130/130 [==============================] - 98s 751ms/step - loss: 0.5089 - accuracy: 0.7821 - val_loss: 0.4524 - val_accuracy: 0.8043\n",
      "Epoch 2/1024\n",
      "130/130 [==============================] - 97s 746ms/step - loss: 0.4210 - accuracy: 0.8172 - val_loss: 0.3996 - val_accuracy: 0.8149\n",
      "Epoch 3/1024\n",
      "130/130 [==============================] - 98s 753ms/step - loss: 0.3809 - accuracy: 0.8332 - val_loss: 0.4110 - val_accuracy: 0.8188\n",
      "Epoch 4/1024\n",
      "130/130 [==============================] - 99s 762ms/step - loss: 0.3668 - accuracy: 0.8395 - val_loss: 0.3831 - val_accuracy: 0.8324\n",
      "Epoch 5/1024\n",
      "130/130 [==============================] - 99s 765ms/step - loss: 0.3498 - accuracy: 0.8497 - val_loss: 0.3704 - val_accuracy: 0.8333\n",
      "Epoch 6/1024\n",
      "130/130 [==============================] - 100s 766ms/step - loss: 0.3366 - accuracy: 0.8523 - val_loss: 0.3728 - val_accuracy: 0.8362\n",
      "Epoch 7/1024\n",
      "129/130 [============================>.] - ETA: 0s - loss: 0.3190 - accuracy: 0.8600\n",
      "Epoch 00007: Reducing Max LR on Plateau: new max lr will be 5e-06 (if not early_stopping).\n",
      "130/130 [==============================] - 96s 742ms/step - loss: 0.3185 - accuracy: 0.8603 - val_loss: 0.3821 - val_accuracy: 0.8382\n",
      "Epoch 8/1024\n",
      "130/130 [==============================] - 97s 745ms/step - loss: 0.2964 - accuracy: 0.8739 - val_loss: 0.3679 - val_accuracy: 0.8459\n",
      "Epoch 9/1024\n",
      "130/130 [==============================] - 96s 742ms/step - loss: 0.2836 - accuracy: 0.8748 - val_loss: 0.3658 - val_accuracy: 0.8372\n",
      "Epoch 10/1024\n",
      "130/130 [==============================] - 96s 742ms/step - loss: 0.2737 - accuracy: 0.8802 - val_loss: 0.3788 - val_accuracy: 0.8391\n",
      "Epoch 11/1024\n",
      "129/130 [============================>.] - ETA: 0s - loss: 0.2620 - accuracy: 0.8831\n",
      "Epoch 00011: Reducing Max LR on Plateau: new max lr will be 2.5e-06 (if not early_stopping).\n",
      "130/130 [==============================] - 99s 758ms/step - loss: 0.2629 - accuracy: 0.8821 - val_loss: 0.3766 - val_accuracy: 0.8469\n",
      "Epoch 12/1024\n",
      "130/130 [==============================] - 100s 767ms/step - loss: 0.2495 - accuracy: 0.8952 - val_loss: 0.3606 - val_accuracy: 0.8450\n",
      "Epoch 13/1024\n",
      "130/130 [==============================] - 100s 766ms/step - loss: 0.2463 - accuracy: 0.8937 - val_loss: 0.3822 - val_accuracy: 0.8421\n",
      "Epoch 14/1024\n",
      "130/130 [==============================] - 100s 767ms/step - loss: 0.2402 - accuracy: 0.9005 - val_loss: 0.3572 - val_accuracy: 0.8469\n",
      "Epoch 15/1024\n",
      "130/130 [==============================] - 97s 743ms/step - loss: 0.2342 - accuracy: 0.8959 - val_loss: 0.3664 - val_accuracy: 0.8527\n",
      "Epoch 16/1024\n",
      "129/130 [============================>.] - ETA: 0s - loss: 0.2277 - accuracy: 0.9058\n",
      "Epoch 00016: Reducing Max LR on Plateau: new max lr will be 1.25e-06 (if not early_stopping).\n",
      "130/130 [==============================] - 97s 743ms/step - loss: 0.2271 - accuracy: 0.9061 - val_loss: 0.3878 - val_accuracy: 0.8440\n",
      "Epoch 17/1024\n",
      "130/130 [==============================] - 98s 754ms/step - loss: 0.2218 - accuracy: 0.9061 - val_loss: 0.3763 - val_accuracy: 0.8547\n",
      "Epoch 18/1024\n",
      "129/130 [============================>.] - ETA: 0s - loss: 0.2185 - accuracy: 0.9092\n",
      "Epoch 00018: Reducing Max LR on Plateau: new max lr will be 6.25e-07 (if not early_stopping).\n",
      "130/130 [==============================] - 95s 734ms/step - loss: 0.2178 - accuracy: 0.9097 - val_loss: 0.3702 - val_accuracy: 0.8624\n",
      "Epoch 19/1024\n",
      "129/130 [============================>.] - ETA: 0s - loss: 0.2152 - accuracy: 0.9078Restoring model weights from the end of the best epoch.\n",
      "130/130 [==============================] - 96s 736ms/step - loss: 0.2147 - accuracy: 0.9083 - val_loss: 0.3738 - val_accuracy: 0.8556\n",
      "Epoch 00019: early stopping\n",
      "Weights from best epoch have been loaded into model.\n"
     ]
    },
    {
     "data": {
      "text/plain": [
       "<tensorflow.python.keras.callbacks.History at 0x209ef4c3f48>"
      ]
     },
     "execution_count": 29,
     "metadata": {},
     "output_type": "execute_result"
    }
   ],
   "source": [
    "learner.autofit(1e-5)"
   ]
  },
  {
   "cell_type": "code",
   "execution_count": 30,
   "metadata": {},
   "outputs": [],
   "source": [
    "learner.model.save(\"unfrozen.h5\", save_format=\"h5\")"
   ]
  },
  {
   "cell_type": "code",
   "execution_count": 31,
   "metadata": {},
   "outputs": [],
   "source": [
    "learner.save_model(\"unfrozen\")"
   ]
  },
  {
   "cell_type": "code",
   "execution_count": 32,
   "metadata": {},
   "outputs": [],
   "source": [
    "res = learner.model.evaluate(test)"
   ]
  },
  {
   "cell_type": "code",
   "execution_count": 33,
   "metadata": {},
   "outputs": [
    {
     "data": {
      "text/plain": [
       "[0.8283946678042412, 0.80608976]"
      ]
     },
     "execution_count": 33,
     "metadata": {},
     "output_type": "execute_result"
    }
   ],
   "source": [
    "res"
   ]
  }
 ],
 "metadata": {
  "kernelspec": {
   "display_name": "Python 3",
   "language": "python",
   "name": "python3"
  },
  "language_info": {
   "codemirror_mode": {
    "name": "ipython",
    "version": 3
   },
   "file_extension": ".py",
   "mimetype": "text/x-python",
   "name": "python",
   "nbconvert_exporter": "python",
   "pygments_lexer": "ipython3",
   "version": "3.7.7"
  }
 },
 "nbformat": 4,
 "nbformat_minor": 4
}
